{
 "cells": [
  {
   "cell_type": "markdown",
   "metadata": {},
   "source": [
    "# Projeto 2 - Ciência dos Dados"
   ]
  },
  {
   "cell_type": "markdown",
   "metadata": {},
   "source": [
    "Nome: Matheus Freitas Sant'Ana\n",
    "\n",
    "Nome: Thiago Lopes David"
   ]
  },
  {
   "cell_type": "markdown",
   "metadata": {},
   "source": [
    "Serão permitidos grupos de três pessoas, mas com uma rubrica mais exigente. Grupos deste tamanho precisarão fazer um questionário de avaliação de trabalho em equipe"
   ]
  },
  {
   "cell_type": "markdown",
   "metadata": {},
   "source": [
    "___\n",
    "# Classificador automático de sentimento\n"
   ]
  },
  {
   "cell_type": "markdown",
   "metadata": {},
   "source": [
    "## Preparando o ambiente no jupyter:"
   ]
  },
  {
   "cell_type": "code",
   "execution_count": 84,
   "metadata": {},
   "outputs": [],
   "source": [
    "%%capture\n",
    "\n",
    "#Instalando o tweepy\n",
    "!pip install tweepy"
   ]
  },
  {
   "cell_type": "code",
   "execution_count": 85,
   "metadata": {
    "jupyter": {
     "outputs_hidden": true
    }
   },
   "outputs": [],
   "source": [
    "import tweepy\n",
    "import math\n",
    "import os.path\n",
    "import pandas as pd\n",
    "import json\n",
    "from random import shuffle"
   ]
  },
  {
   "cell_type": "markdown",
   "metadata": {},
   "source": [
    "___\n",
    "## Autenticando no  Twitter\n",
    "\n",
    "* Conta: ***[Preencha aqui o id da sua conta. Ex: @fulano ]***"
   ]
  },
  {
   "cell_type": "code",
   "execution_count": 86,
   "metadata": {
    "jupyter": {
     "outputs_hidden": true
    }
   },
   "outputs": [],
   "source": [
    "#Dados de autenticação do twitter:\n",
    "\n",
    "#Coloque aqui o identificador da conta no twitter: @fulano\n",
    "\n",
    "#leitura do arquivo no formato JSON\n",
    "with open('auth.pass') as fp:    \n",
    "    data = json.load(fp)\n",
    "\n",
    "#Configurando a biblioteca. Não modificar\n",
    "auth = tweepy.OAuthHandler(data['consumer_key'], data['consumer_secret'])\n",
    "auth.set_access_token(data['access_token'], data['access_token_secret'])"
   ]
  },
  {
   "cell_type": "markdown",
   "metadata": {},
   "source": [
    "___\n",
    "## Etapas do projeto:"
   ]
  },
  {
   "cell_type": "markdown",
   "metadata": {},
   "source": [
    "### Escolha de um produto e coleta das mensagens\n"
   ]
  },
  {
   "cell_type": "code",
   "execution_count": 87,
   "metadata": {
    "jupyter": {
     "outputs_hidden": true
    }
   },
   "outputs": [],
   "source": [
    "#Produto escolhido:\n",
    "produto = 'uber'\n",
    "\n",
    "#Quantidade mínima de mensagens capturadas:\n",
    "n = 500\n",
    "#Quantidade mínima de mensagens para a base de treinamento:\n",
    "t = 300\n",
    "\n",
    "#Filtro de língua, escolha uma na tabela ISO 639-1.\n",
    "lang = 'pt'"
   ]
  },
  {
   "cell_type": "markdown",
   "metadata": {},
   "source": [
    "Capturando os dados do twitter:"
   ]
  },
  {
   "cell_type": "code",
   "execution_count": 88,
   "metadata": {
    "jupyter": {
     "outputs_hidden": true
    }
   },
   "outputs": [],
   "source": [
    "#Cria um objeto para a captura\n",
    "api = tweepy.API(auth)\n",
    "\n",
    "#Inicia a captura, para mais detalhes: ver a documentação do tweepy\n",
    "i = 1\n",
    "msgs = []\n",
    "for msg in tweepy.Cursor(api.search, q=produto, lang=lang, tweet_mode=\"extended\").items():    \n",
    "    msgs.append(msg.full_text.lower())\n",
    "    i += 1\n",
    "    if i > n:\n",
    "        break\n",
    "\n",
    "#Embaralhando as mensagens para reduzir um possível viés\n",
    "shuffle(msgs)"
   ]
  },
  {
   "cell_type": "markdown",
   "metadata": {},
   "source": [
    "Salvando os dados em uma planilha Excel:"
   ]
  },
  {
   "cell_type": "code",
   "execution_count": 89,
   "metadata": {
    "jupyter": {
     "outputs_hidden": true
    }
   },
   "outputs": [],
   "source": [
    "#Verifica se o arquivo não existe para não substituir um conjunto pronto\n",
    "if not os.path.isfile('./{0}.xlsx'.format(produto)):\n",
    "    \n",
    "    #Abre o arquivo para escrita\n",
    "    writer = pd.ExcelWriter('{0}.xlsx'.format(produto))\n",
    "\n",
    "    #divide o conjunto de mensagens em duas planilhas\n",
    "    dft = pd.DataFrame({'Treinamento' : pd.Series(msgs[:t])})\n",
    "    dft.to_excel(excel_writer = writer, sheet_name = 'Treinamento', index = False)\n",
    "\n",
    "    dfc = pd.DataFrame({'Teste' : pd.Series(msgs[t:])})\n",
    "    dfc.to_excel(excel_writer = writer, sheet_name = 'Teste', index = False)\n",
    "\n",
    "    #fecha o arquivo\n",
    "    writer.save()"
   ]
  },
  {
   "cell_type": "markdown",
   "metadata": {},
   "source": [
    "___\n",
    "### Classificando as mensagens na coragem\n",
    "\n",
    "Esta etapa é manual. Faça a mesma pelo Excel."
   ]
  },
  {
   "cell_type": "code",
   "execution_count": null,
   "metadata": {},
   "outputs": [],
   "source": []
  },
  {
   "cell_type": "code",
   "execution_count": null,
   "metadata": {},
   "outputs": [],
   "source": []
  },
  {
   "cell_type": "code",
   "execution_count": null,
   "metadata": {},
   "outputs": [],
   "source": []
  },
  {
   "cell_type": "markdown",
   "metadata": {},
   "source": [
    "___\n",
    "### Montando o Classificador Naive-Bayes\n",
    "\n",
    "Considerando apenas as mensagens da planilha Treinamento, ensine  seu classificador."
   ]
  },
  {
   "cell_type": "code",
   "execution_count": 90,
   "metadata": {},
   "outputs": [
    {
     "name": "stdout",
     "output_type": "stream",
     "text": [
      "Esperamos trabalhar no diretório\n",
      "C:\\Users\\matfs\\Desktop\\Ciência dos Dados\\P2-Ciencia-dos-Dados\n"
     ]
    }
   ],
   "source": [
    "import os\n",
    "print('Esperamos trabalhar no diretório')\n",
    "print(os.getcwd())"
   ]
  },
  {
   "cell_type": "code",
   "execution_count": 91,
   "metadata": {},
   "outputs": [],
   "source": [
    "import re \n",
    "\n",
    "def cleanup(text):\n",
    "    \"\"\"\n",
    "        Função de limpeza muito simples que troca alguns sinais básicos por espaços\n",
    "    \"\"\"\n",
    "    punctuation = '[!\\-.:?;]' # Note que os sinais [] são delimitadores de um conjunto.\n",
    "    pattern = re.compile(punctuation)\n",
    "    text_subbed = re.sub(pattern, ' ', text)\n",
    "    return text_subbed    "
   ]
  },
  {
   "cell_type": "code",
   "execution_count": 117,
   "metadata": {},
   "outputs": [],
   "source": [
    "tweets = pd.read_excel('uber.xlsx', sheet_name = \"Treinamento\")\n",
    "tweets_teste = pd.read_excel('uber.xlsx', sheet_name = \"Teste\")"
   ]
  },
  {
   "cell_type": "code",
   "execution_count": 93,
   "metadata": {},
   "outputs": [
    {
     "data": {
      "text/plain": [
       "uber                             4.783599\n",
       "o                                3.449398\n",
       "um                               2.700944\n",
       "de                               2.570778\n",
       "e                                2.408070\n",
       "eu                               2.147738\n",
       "aí                               1.854865\n",
       "que                              1.496909\n",
       "a                                1.366743\n",
       "tava                             1.204035\n",
       "no                               1.204035\n",
       "do                               1.171494\n",
       "com                              0.976245\n",
       "pegar                            0.976245\n",
       "hoje                             0.943703\n",
       "fui                              0.911162\n",
       "na                               0.911162\n",
       "ne                               0.878620\n",
       "3                                0.878620\n",
       "não                              0.878620\n",
       "eh                               0.878620\n",
       "sou                              0.878620\n",
       "pra                              0.878620\n",
       "cristão                          0.846079\n",
       "segundos                         0.846079\n",
       "tocando                          0.846079\n",
       "@brukopinho                      0.846079\n",
       "senhor                           0.846079\n",
       "louvorzao                        0.846079\n",
       "(uns                             0.846079\n",
       "                                   ...   \n",
       "kkkkkkkkkkkkkkkkkk               0.032541\n",
       "idade)                           0.032541\n",
       "mamata                           0.032541\n",
       "perfil                           0.032541\n",
       "co/cnsr1zcoaq@samianainternet    0.032541\n",
       "tio                              0.032541\n",
       "@lettgregorio                    0.032541\n",
       "co/9jcfv0lk4do                   0.032541\n",
       "será                             0.032541\n",
       "ifood                            0.032541\n",
       "soo…rt                           0.032541\n",
       "co/mtvvathfb8mano                0.032541\n",
       "alto                             0.032541\n",
       "mandou                           0.032541\n",
       "@uber_brasil                     0.032541\n",
       "outro                            0.032541\n",
       "ten                              0.032541\n",
       "pedimos                          0.032541\n",
       "chique                           0.032541\n",
       "voltei                           0.032541\n",
       "qq@beatriz_seca                  0.032541\n",
       "passarão                         0.032541\n",
       "\"liberal\"                        0.032541\n",
       "murmura                          0.032541\n",
       "ganhei                           0.032541\n",
       "maisrt                           0.032541\n",
       "olha                             0.032541\n",
       "novo                             0.032541\n",
       "aeroporto,                       0.032541\n",
       "uber@guedescaioxs                0.032541\n",
       "Length: 992, dtype: float64"
      ]
     },
     "execution_count": 93,
     "metadata": {},
     "output_type": "execute_result"
    }
   ],
   "source": [
    "#DataFrame_irrelevantes = tweets.loc[tweets['Classificação'] == 0]\n",
    "#contagem_irrel = pd.Series(cleanup(\" \".join(DataFrame_irrelevantes[\"Treinamento\"])).split()).value_counts()\n",
    "#freqr_ir = pd.Series(contagem_irrel).value_counts(True)*100\n",
    "DataFrame_irrelevantes = tweets.loc[tweets['Classificação'] == 0]\n",
    "texto_ir = ''.join(DataFrame_irrelevantes['Treinamento'])\n",
    "texto_clean_ir = cleanup(texto_ir)\n",
    "lista_ir = texto_clean_ir.split()\n",
    "freq_ir = pd.Series(lista_ir).value_counts(True)*100\n",
    "freq_ir"
   ]
  },
  {
   "cell_type": "code",
   "execution_count": 94,
   "metadata": {},
   "outputs": [
    {
     "data": {
      "text/plain": [
       "uber               4.834606\n",
       "de                 3.265479\n",
       "e                  2.756573\n",
       "o                  2.629347\n",
       "que                2.205259\n",
       "a                  1.993215\n",
       "pra                1.908397\n",
       "eu                 1.781170\n",
       "um                 1.738762\n",
       "no                 1.441900\n",
       "q                  1.357082\n",
       "do                 1.145038\n",
       "não                1.060221\n",
       "com                1.060221\n",
       "é                  0.890585\n",
       "na                 0.805768\n",
       "da                 0.763359\n",
       "ele                0.763359\n",
       "minha              0.763359\n",
       "meu                0.720950\n",
       "me                 0.678541\n",
       "uma                0.636132\n",
       "https              0.636132\n",
       "//t                0.636132\n",
       "se                 0.551315\n",
       "mais               0.551315\n",
       "tá                 0.508906\n",
       "vai                0.508906\n",
       "por                0.466497\n",
       "em                 0.466497\n",
       "                     ...   \n",
       "projetos           0.042409\n",
       "querido            0.042409\n",
       "tbmfazendo         0.042409\n",
       "deixa              0.042409\n",
       "caroo              0.042409\n",
       "tattoos            0.042409\n",
       "pega               0.042409\n",
       "porcaria           0.042409\n",
       "pedido             0.042409\n",
       "co/vzfjzg1r…no     0.042409\n",
       "inteligente        0.042409\n",
       "marcar             0.042409\n",
       "toda,              0.042409\n",
       "@joaopachecoo      0.042409\n",
       "guarapari          0.042409\n",
       "@centraldanacao    0.042409\n",
       "existe             0.042409\n",
       "terceira           0.042409\n",
       "levar              0.042409\n",
       "estuda             0.042409\n",
       "motorista          0.042409\n",
       "começa             0.042409\n",
       "uberpeguei         0.042409\n",
       "influência         0.042409\n",
       "aconteceu          0.042409\n",
       "trabalho           0.042409\n",
       "appvim             0.042409\n",
       "ganha              0.042409\n",
       "cidade             0.042409\n",
       "sul                0.042409\n",
       "Length: 975, dtype: float64"
      ]
     },
     "execution_count": 94,
     "metadata": {},
     "output_type": "execute_result"
    }
   ],
   "source": [
    "#DataFrame_relevantes = tweets.loc[tweets['Classificação'] == 1]\n",
    "#contagem_rel = pd.Series(cleanup(\" \".join(DataFrame_relevantes[\"Treinamento\"])).split()).value_counts()\n",
    "#contagem_rel\n",
    "DataFrame_relevantes = tweets.loc[tweets['Classificação'] == 1]\n",
    "texto_r = ''.join(DataFrame_relevantes['Treinamento'])\n",
    "texto_clean_r = cleanup(texto_r)\n",
    "lista_r = texto_clean_r.split()\n",
    "freq_r = pd.Series(lista_r).value_counts(True)*100\n",
    "freq_r"
   ]
  },
  {
   "cell_type": "code",
   "execution_count": 95,
   "metadata": {},
   "outputs": [],
   "source": [
    "soma_r = len(freq_r)\n",
    "soma_ir = len(freq_ir)\n",
    "total = soma_r + soma_ir\n",
    "\n",
    "#Dados Empíricos\n",
    "p_relevante = soma_r/total\n",
    "p_irrelevante =soma_ir/total"
   ]
  },
  {
   "cell_type": "code",
   "execution_count": 115,
   "metadata": {},
   "outputs": [
    {
     "name": "stdout",
     "output_type": "stream",
     "text": [
      "1\n"
     ]
    }
   ],
   "source": [
    "def classificador_naive_bayes(frase):\n",
    "    \n",
    "    frase_clean = cleanup(frase)\n",
    "    lista_frase = frase_clean.split()\n",
    "    \n",
    "    #P(Frase|Relevante)\n",
    "    p_frase_relevante = freq_r.loc[lista_frase].prod()\n",
    "    \n",
    "    #P(Frase|Irrelevante)\n",
    "    p_frase_irrelevante = freq_ir.loc[lista_frase].prod()\n",
    "    \n",
    "    #P(Relevante|Frase)\n",
    "    p_relevante_frase = p_frase_relevante*p_relevante\n",
    "    \n",
    "    #P(Irrelevante|Frase)\n",
    "    p_irrelevante_frase = p_frase_irrelevante*p_irrelevante\n",
    "    \n",
    "    if p_relevante_frase > p_irrelevante_frase:\n",
    "        return 1 #relevante\n",
    "    else:\n",
    "        return 0 #irrelevante\n",
    "    \n",
    "print(classificador_naive_bayes(\"tá\"))\n",
    "    \n",
    "    "
   ]
  },
  {
   "cell_type": "markdown",
   "metadata": {},
   "source": [
    "___\n",
    "### Verificando a performance\n",
    "\n",
    "Agora você deve testar o seu classificador com a base de Testes."
   ]
  },
  {
   "cell_type": "code",
   "execution_count": null,
   "metadata": {},
   "outputs": [],
   "source": [
    "for tweet in tweets_teste[\"Teste\"]:\n",
    "    \n",
    "    tweet_clean = cleanup(tweet)\n",
    "    lista_tweet = tweet_clean.split()\n",
    "    p_relevante_frase = 0\n",
    "    p_irrelevante_frase = 0\n",
    "    \n",
    "    for k in lista_tweet:\n",
    "        \n",
    "        try:\n",
    "        \n",
    "            #P(Frase|Relevante)\n",
    "            p_frase_relevante = freq_r.loc[k].prod()\n",
    "\n",
    "            #P(Frase|Irrelevante)\n",
    "            p_frase_irrelevante = freq_ir.loc[k].prod()\n",
    "\n",
    "            #P(Relevante|Frase)\n",
    "            p_relevante_frase = p_frase_relevante*p_relevante\n",
    "\n",
    "            #P(Irrelevante|Frase)\n",
    "            p_irrelevante_frase = p_frase_irrelevante*p_irrelevante\n",
    "        \n",
    "        except:\n",
    "            \n",
    "            p_relevante_frase += 1/(total + soma_r)\n",
    "            p_irrelevante_frase += 1/(total + soma_ir)\n",
    "    "
   ]
  },
  {
   "cell_type": "code",
   "execution_count": null,
   "metadata": {},
   "outputs": [],
   "source": []
  },
  {
   "cell_type": "code",
   "execution_count": null,
   "metadata": {},
   "outputs": [],
   "source": []
  },
  {
   "cell_type": "markdown",
   "metadata": {},
   "source": [
    "___\n",
    "### Concluindo"
   ]
  },
  {
   "cell_type": "code",
   "execution_count": null,
   "metadata": {},
   "outputs": [],
   "source": []
  },
  {
   "cell_type": "code",
   "execution_count": null,
   "metadata": {},
   "outputs": [],
   "source": []
  },
  {
   "cell_type": "markdown",
   "metadata": {},
   "source": [
    "## Aperfeiçoamento:\n",
    "\n",
    "Os trabalhos vão evoluir em conceito dependendo da quantidade de itens avançados:\n",
    "\n",
    "* Limpar: \\n, :, \", ', (, ), etc SEM remover emojis\n",
    "* Corrigir separação de espaços entre palavras e emojis ou emojis e emojis\n",
    "* Propor outras limpezas e transformações que não afetem a qualidade da informação ou classificação\n",
    "* Criar categorias intermediárias de relevância baseadas na probabilidade: ex.: muito relevante, relevante, neutro, irrelevante, muito irrelevante (3 categorias: C, mais categorias conta para B)\n",
    "* Explicar por que não posso usar o próprio classificador para gerar mais amostras de treinamento\n",
    "* Propor diferentes cenários para Naïve Bayes fora do contexto do projeto\n",
    "* Sugerir e explicar melhorias reais com indicações concretas de como implementar (indicar como fazer e indicar material de pesquisa)\n",
    "* Montar um dashboard que periodicamente realiza análise de sentimento e visualiza estes dados"
   ]
  },
  {
   "cell_type": "markdown",
   "metadata": {},
   "source": [
    "# Referências"
   ]
  },
  {
   "cell_type": "markdown",
   "metadata": {},
   "source": [
    "[Naive Bayes and Text Classification](https://arxiv.org/pdf/1410.5329.pdf)  **Mais completo**\n",
    "\n",
    "[A practical explanation of a Naive Bayes Classifier](https://monkeylearn.com/blog/practical-explanation-naive-bayes-classifier/) **Mais simples**"
   ]
  },
  {
   "cell_type": "code",
   "execution_count": null,
   "metadata": {},
   "outputs": [],
   "source": []
  }
 ],
 "metadata": {
  "kernelspec": {
   "display_name": "Python 3",
   "language": "python",
   "name": "python3"
  },
  "language_info": {
   "codemirror_mode": {
    "name": "ipython",
    "version": 3
   },
   "file_extension": ".py",
   "mimetype": "text/x-python",
   "name": "python",
   "nbconvert_exporter": "python",
   "pygments_lexer": "ipython3",
   "version": "3.7.1"
  }
 },
 "nbformat": 4,
 "nbformat_minor": 4
}
